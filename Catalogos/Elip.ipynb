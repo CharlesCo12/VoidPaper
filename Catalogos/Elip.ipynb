{
 "cells": [
  {
   "cell_type": "code",
   "execution_count": 1,
   "metadata": {},
   "outputs": [],
   "source": [
    "import numpy as np\n",
    "import matplotlib.pylab as plt"
   ]
  },
  {
   "cell_type": "code",
   "execution_count": 2,
   "metadata": {},
   "outputs": [],
   "source": [
    "r1 = np.loadtxt('b1r10.vae',delimiter=',')\n",
    "r12 = np.loadtxt('b1r12.vae',delimiter=',')\n",
    "r14 = np.loadtxt('b1r14.vae',delimiter=',')\n",
    "r16 = np.loadtxt('b1r16.vae',delimiter=',')"
   ]
  },
  {
   "cell_type": "code",
   "execution_count": 3,
   "metadata": {},
   "outputs": [],
   "source": [
    "def datosGeo(Catalogo):\n",
    "    a=Catalogo[:,6]\n",
    "    b=Catalogo[:,7]\n",
    "    c=Catalogo[:,8]\n",
    "    def elip(a,b,c):\n",
    "        return (1/4)*(a**2 - c**2)/(a**2 + b**2 + c**2)\n",
    "    def elip1(a,c):\n",
    "        return 1 - (c/a)\n",
    "    def prol(a,b,c):\n",
    "        return (1/4)*((b**2 - c**2)+ (b**2 - a**2))/(a**2 + b**2 + c**2)\n",
    "    rt=[elip1(a,c),elip(a,b,c),prol(a,b,c)]\n",
    "    \n",
    "    return rt"
   ]
  },
  {
   "cell_type": "code",
   "execution_count": 4,
   "metadata": {},
   "outputs": [],
   "source": [
    "geo_1 = datosGeo(r1)\n",
    "geo_12 = datosGeo(r12)\n",
    "geo_14 = datosGeo(r14)\n",
    "geo_16 = datosGeo(r16)"
   ]
  },
  {
   "cell_type": "code",
   "execution_count": 5,
   "metadata": {},
   "outputs": [
    {
     "data": {
      "image/png": "[encoded data removed]",
      "text/plain": [
       "<Figure size 864x360 with 2 Axes>"
      ]
     },
     "metadata": {
      "needs_background": "light"
     },
     "output_type": "display_data"
    }
   ],
   "source": [
    "plt.figure(figsize=(12,5))\n",
    "plt.subplot(121)\n",
    "plt.hist(geo_1[0],bins=10,histtype='step',label='r = 1.0')\n",
    "plt.hist(geo_12[0],bins=10,histtype='step',label='r = 1.2')\n",
    "plt.hist(geo_14[0],bins=10,histtype='step',label='r = 1.4')\n",
    "plt.hist(geo_16[0],bins=10,histtype='step',label='r = 1.6')\n",
    "plt.legend(loc=0.0)\n",
    "plt.ylim(0,190)\n",
    "plt.xlabel(r'$\\epsilon = 1 - c/a$')\n",
    "plt.subplot(122)\n",
    "plt.hist(geo_1[1],bins=10,histtype='step',label='r = 1.0')\n",
    "plt.hist(geo_12[1],bins=10,histtype='step',label='r = 1.2')\n",
    "plt.hist(geo_14[1],bins=10,histtype='step',label='r = 1.4')\n",
    "plt.hist(geo_16[1],bins=10,histtype='step',label='r = 1.6')\n",
    "plt.ylim(0,190)\n",
    "plt.legend(loc=0.0)\n",
    "plt.xlabel(r'$\\epsilon = \\frac{1}{4}$' + ' ' + r'$\\frac{a^2 - c^2}{a^2 + b^2 + c^2}$')\n",
    "\n",
    "plt.savefig('elip_hist.pdf')"
   ]
  },
  {
   "cell_type": "code",
   "execution_count": null,
   "metadata": {},
   "outputs": [],
   "source": []
  },
  {
   "cell_type": "code",
   "execution_count": null,
   "metadata": {},
   "outputs": [],
   "source": []
  }
 ],
 "metadata": {
  "kernelspec": {
   "display_name": "Python 3",
   "language": "python",
   "name": "python3"
  },
  "language_info": {
   "codemirror_mode": {
    "name": "ipython",
    "version": 3
   },
   "file_extension": ".py",
   "mimetype": "text/x-python",
   "name": "python",
   "nbconvert_exporter": "python",
   "pygments_lexer": "ipython3",
   "version": "3.7.6"
  }
 },
 "nbformat": 4,
 "nbformat_minor": 4
}
